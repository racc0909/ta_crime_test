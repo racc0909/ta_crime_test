{
  "cells": [
    {
      "cell_type": "markdown",
      "metadata": {
        "id": "Sulzi0S--KCz"
      },
      "source": [
        "# **Welcome to the Python Class!** 🐍\n",
        "\n",
        "---\n",
        "Class of WiSe24/25\n"
      ]
    },
    {
      "cell_type": "markdown",
      "metadata": {},
      "source": [
        "---\n",
        "\n",
        "\n",
        "# **Test Jupyter Notebook**\n",
        "\n",
        "---\n"
      ]
    },
    {
      "cell_type": "code",
      "execution_count": 1,
      "metadata": {},
      "outputs": [
        {
          "name": "stdout",
          "output_type": "stream",
          "text": [
            "Hello World\n"
          ]
        }
      ],
      "source": [
        "print(\"Hello World\")"
      ]
    },
    {
      "cell_type": "code",
      "execution_count": 2,
      "metadata": {},
      "outputs": [
        {
          "name": "stdout",
          "output_type": "stream",
          "text": [
            "7\n"
          ]
        }
      ],
      "source": [
        "a = 3\n",
        "b = 4\n",
        "print(a+b)"
      ]
    },
    {
      "cell_type": "markdown",
      "metadata": {
        "id": "ABvqJsw1Tdvs"
      },
      "source": [
        "---\n",
        "\n",
        "\n",
        "# **Preparation**\n",
        "\n",
        "---\n",
        "\n"
      ]
    },
    {
      "cell_type": "markdown",
      "metadata": {
        "id": "-U5f_HCyYEe7"
      },
      "source": [
        "## **1. Import Packages:**"
      ]
    },
    {
      "cell_type": "code",
      "execution_count": 4,
      "metadata": {
        "id": "Zskkkb21W25M"
      },
      "outputs": [],
      "source": [
        "import pandas as pd\n",
        "import numpy as np"
      ]
    },
    {
      "cell_type": "markdown",
      "metadata": {},
      "source": [
        "## **2. Read Data into a Pandas DataFrame:**\n",
        "\n",
        "Use the pd.read_ method to read your data into a Pandas DataFrame. The method you choose depends on the format of your data. For example:\n",
        "\n",
        "**To read a CSV file**\n",
        "```python\n",
        "# Load a CSV\n",
        "df = pd.read_csv('data/file_name.csv', sep=\",\")\n",
        "```\n",
        "\n",
        "**To read an Excel file**\n",
        "```python\n",
        "# Load a CSV\n",
        "df = pd.read_excel('data/file_name.xlsx')\n",
        "```"
      ]
    },
    {
      "cell_type": "code",
      "execution_count": 6,
      "metadata": {
        "id": "UMWCHw2FXtSD"
      },
      "outputs": [],
      "source": [
        "# Load a CSV\n",
        "df = pd.read_csv('data/la_crime_2020_present_full.csv', sep=\",\")"
      ]
    },
    {
      "cell_type": "markdown",
      "metadata": {},
      "source": [
        "**Check the data after reading**"
      ]
    },
    {
      "cell_type": "code",
      "execution_count": 7,
      "metadata": {
        "colab": {
          "base_uri": "https://localhost:8080/"
        },
        "id": "hdWtE7ZTyTZ6",
        "outputId": "e7de326c-3fae-4b3b-cd01-fa641f2bbc9a"
      },
      "outputs": [
        {
          "name": "stdout",
          "output_type": "stream",
          "text": [
            "<class 'pandas.core.frame.DataFrame'>\n",
            "RangeIndex: 974477 entries, 0 to 974476\n",
            "Data columns (total 28 columns):\n",
            " #   Column          Non-Null Count   Dtype  \n",
            "---  ------          --------------   -----  \n",
            " 0   DR_NO           974477 non-null  int64  \n",
            " 1   Date Rptd       974477 non-null  object \n",
            " 2   DATE OCC        974477 non-null  object \n",
            " 3   TIME OCC        974477 non-null  int64  \n",
            " 4   AREA            974477 non-null  int64  \n",
            " 5   AREA NAME       974477 non-null  object \n",
            " 6   Rpt Dist No     974477 non-null  int64  \n",
            " 7   Part 1-2        974477 non-null  int64  \n",
            " 8   Crm Cd          974477 non-null  int64  \n",
            " 9   Crm Cd Desc     974477 non-null  object \n",
            " 10  Mocodes         831701 non-null  object \n",
            " 11  Vict Age        974477 non-null  int64  \n",
            " 12  Vict Sex        838474 non-null  object \n",
            " 13  Vict Descent    838464 non-null  object \n",
            " 14  Premis Cd       974463 non-null  float64\n",
            " 15  Premis Desc     973893 non-null  object \n",
            " 16  Weapon Used Cd  325782 non-null  float64\n",
            " 17  Weapon Desc     325782 non-null  object \n",
            " 18  Status          974476 non-null  object \n",
            " 19  Status Desc     974477 non-null  object \n",
            " 20  Crm Cd 1        974466 non-null  float64\n",
            " 21  Crm Cd 2        68760 non-null   float64\n",
            " 22  Crm Cd 3        2309 non-null    float64\n",
            " 23  Crm Cd 4        64 non-null      float64\n",
            " 24  LOCATION        974477 non-null  object \n",
            " 25  Cross Street    151016 non-null  object \n",
            " 26  LAT             974477 non-null  float64\n",
            " 27  LON             974477 non-null  float64\n",
            "dtypes: float64(8), int64(7), object(13)\n",
            "memory usage: 208.2+ MB\n"
          ]
        }
      ],
      "source": [
        "df.info()"
      ]
    }
  ],
  "metadata": {
    "colab": {
      "provenance": []
    },
    "kernelspec": {
      "display_name": "Python 3",
      "name": "python3"
    },
    "language_info": {
      "codemirror_mode": {
        "name": "ipython",
        "version": 3
      },
      "file_extension": ".py",
      "mimetype": "text/x-python",
      "name": "python",
      "nbconvert_exporter": "python",
      "pygments_lexer": "ipython3",
      "version": "3.12.3"
    }
  },
  "nbformat": 4,
  "nbformat_minor": 0
}
