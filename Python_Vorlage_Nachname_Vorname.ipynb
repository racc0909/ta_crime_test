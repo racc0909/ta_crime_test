{
  "cells": [
    {
      "cell_type": "markdown",
      "metadata": {
        "id": "Sulzi0S--KCz"
      },
      "source": [
        "# **Welcome to the Python Class!** 🐍\n",
        "\n",
        "---\n",
        "Class of WiSe24/25\n"
      ]
    },
    {
      "cell_type": "markdown",
      "metadata": {
        "id": "ABvqJsw1Tdvs"
      },
      "source": [
        "---\n",
        "\n",
        "\n",
        "# **Preparation**\n",
        "\n",
        "---\n",
        "\n"
      ]
    },
    {
      "cell_type": "markdown",
      "metadata": {
        "id": "-U5f_HCyYEe7"
      },
      "source": [
        "## **1. Import Packages:**"
      ]
    },
    {
      "cell_type": "code",
      "execution_count": null,
      "metadata": {
        "id": "Zskkkb21W25M"
      },
      "outputs": [],
      "source": [
        "import pandas as pd\n",
        "import numpy as np"
      ]
    },
    {
      "cell_type": "markdown",
      "metadata": {},
      "source": [
        "## **2. Read Data into a Pandas DataFrame:**\n",
        "\n",
        "Use the pd.read_ method to read your data into a Pandas DataFrame. The method you choose depends on the format of your data. For example:"
      ]
    },
    {
      "cell_type": "code",
      "execution_count": null,
      "metadata": {
        "id": "UMWCHw2FXtSD"
      },
      "outputs": [],
      "source": [
        "# Load a CSV\n",
        "df = pd.read_csv('data/crimes.csv', sep=\",\")"
      ]
    },
    {
      "cell_type": "code",
      "execution_count": null,
      "metadata": {
        "colab": {
          "base_uri": "https://localhost:8080/",
          "height": 206
        },
        "id": "fhRJ4xwBKXWU",
        "outputId": "f52cad16-95d4-446d-ffd8-301e61b5c58e"
      },
      "outputs": [],
      "source": [
        "# Load an Excel\n",
        "locations = pd.read_excel('data/crimes.xlsx')"
      ]
    },
    {
      "cell_type": "markdown",
      "metadata": {},
      "source": [
        "**Check the data after reading**"
      ]
    },
    {
      "cell_type": "code",
      "execution_count": null,
      "metadata": {
        "colab": {
          "base_uri": "https://localhost:8080/"
        },
        "id": "hdWtE7ZTyTZ6",
        "outputId": "e7de326c-3fae-4b3b-cd01-fa641f2bbc9a"
      },
      "outputs": [],
      "source": [
        "df.info()"
      ]
    }
  ],
  "metadata": {
    "colab": {
      "provenance": []
    },
    "kernelspec": {
      "display_name": "Python 3",
      "name": "python3"
    },
    "language_info": {
      "name": "python"
    }
  },
  "nbformat": 4,
  "nbformat_minor": 0
}
