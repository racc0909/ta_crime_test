{
  "cells": [
    {
      "cell_type": "markdown",
      "metadata": {
        "id": "Sulzi0S--KCz"
      },
      "source": [
        "# **Welcome to the Python Class!** 🐍\n",
        "\n",
        "---\n",
        "Class of WiSe24/25\n"
      ]
    },
    {
      "cell_type": "markdown",
      "metadata": {},
      "source": [
        "---\n",
        "\n",
        "\n",
        "# **Test Jupyter Notebook**\n",
        "\n",
        "---\n"
      ]
    },
    {
      "cell_type": "code",
      "execution_count": 1,
      "metadata": {},
      "outputs": [
        {
          "name": "stdout",
          "output_type": "stream",
          "text": [
            "Hello World\n"
          ]
        }
      ],
      "source": [
        "print(\"Hello World\")"
      ]
    },
    {
      "cell_type": "code",
      "execution_count": 2,
      "metadata": {},
      "outputs": [
        {
          "name": "stdout",
          "output_type": "stream",
          "text": [
            "7\n"
          ]
        }
      ],
      "source": [
        "a = 3\n",
        "b = 4\n",
        "print(a+b)"
      ]
    },
    {
      "cell_type": "markdown",
      "metadata": {
        "id": "ABvqJsw1Tdvs"
      },
      "source": [
        "---\n",
        "\n",
        "\n",
        "# **Preparation**\n",
        "\n",
        "---\n",
        "\n"
      ]
    },
    {
      "cell_type": "markdown",
      "metadata": {
        "id": "-U5f_HCyYEe7"
      },
      "source": [
        "## **1. Import Packages:**"
      ]
    },
    {
      "cell_type": "code",
      "execution_count": 4,
      "metadata": {
        "id": "Zskkkb21W25M"
      },
      "outputs": [],
      "source": [
        "import pandas as pd\n",
        "import numpy as np"
      ]
    },
    {
      "cell_type": "markdown",
      "metadata": {},
      "source": [
        "## **2. Read Data into a Pandas DataFrame:**\n",
        "\n",
        "Use the pd.read_ method to read your data into a Pandas DataFrame. The method you choose depends on the format of your data. For example:\n",
        "\n",
        "**To read a CSV file**\n",
        "```python\n",
        "# Load a CSV\n",
        "df = pd.read_csv('data/file_name.csv', sep=\",\")\n",
        "```\n",
        "\n",
        "**To read an Excel file**\n",
        "```python\n",
        "# Load a CSV\n",
        "df = pd.read_excel('data/file_name.xlsx')\n",
        "```"
      ]
    },
    {
      "cell_type": "code",
      "execution_count": 36,
      "metadata": {
        "id": "UMWCHw2FXtSD"
      },
      "outputs": [],
      "source": [
        "# Load a CSV\n",
        "df = pd.read_csv('data/file_name.csv', sep=\",\")"
      ]
    }
  ],
  "metadata": {
    "colab": {
      "provenance": []
    },
    "kernelspec": {
      "display_name": "Python 3",
      "name": "python3"
    },
    "language_info": {
      "codemirror_mode": {
        "name": "ipython",
        "version": 3
      },
      "file_extension": ".py",
      "mimetype": "text/x-python",
      "name": "python",
      "nbconvert_exporter": "python",
      "pygments_lexer": "ipython3",
      "version": "3.12.3"
    }
  },
  "nbformat": 4,
  "nbformat_minor": 0
}
